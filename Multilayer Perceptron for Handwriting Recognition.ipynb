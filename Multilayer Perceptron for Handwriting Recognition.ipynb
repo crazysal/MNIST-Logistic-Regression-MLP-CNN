{
 "cells": [
  {
   "cell_type": "code",
   "execution_count": 4,
   "metadata": {},
   "outputs": [
    {
     "name": "stdout",
     "output_type": "stream",
     "text": [
      "Extracting /tmp/data/train-images-idx3-ubyte.gz\n",
      "Extracting /tmp/data/train-labels-idx1-ubyte.gz\n",
      "Extracting /tmp/data/t10k-images-idx3-ubyte.gz\n",
      "Extracting /tmp/data/t10k-labels-idx1-ubyte.gz\n"
     ]
    }
   ],
   "source": [
    "\"\"\" Multilayer Perceptron.\n",
    "\n",
    "A Multilayer Perceptron (Neural Network) implementation example using\n",
    "TensorFlow library. This example is using the MNIST database of handwritten\n",
    "digits (http://yann.lecun.com/exdb/mnist/).\n",
    "\n",
    "Links:\n",
    "    [MNIST Dataset](http://yann.lecun.com/exdb/mnist/).\n",
    "\n",
    "Author: Saleem Ahmed\n",
    "Project: https://github.com/crazysal/MNIST-Logistic-Regression-MLP-CNN\n",
    "\"\"\"\n",
    "\n",
    "from __future__ import print_function\n",
    "\n",
    "# Import MNIST data\n",
    "from tensorflow.examples.tutorials.mnist import input_data\n",
    "mnist = input_data.read_data_sets(\"/tmp/data/\", one_hot=True)\n",
    "\n",
    "import tensorflow as tf\n",
    "\n",
    "# Parameters\n",
    "learning_rate = 0.001\n",
    "training_epochs = 15\n",
    "batch_size = 100\n",
    "display_step = 1"
   ]
  },
  {
   "cell_type": "code",
   "execution_count": 5,
   "metadata": {
    "collapsed": true
   },
   "outputs": [],
   "source": [
    "# Network Parameters\n",
    "n_hidden_1 = 256 # 1st layer number of neurons\n",
    "# n_hidden_2 = 256 # 2nd layer number of neurons\n",
    "n_input = 784 # MNIST data input (img shape: 28*28)\n",
    "n_classes = 10 # MNIST total classes (0-9 digits)\n",
    "\n",
    "# tf Graph input\n",
    "X = tf.placeholder(\"float\", [None, n_input])\n",
    "Y = tf.placeholder(\"float\", [None, n_classes])\n",
    "\n",
    "# Store layers weight & bias\n",
    "weights = {\n",
    "    'h1': tf.Variable(tf.random_normal([n_input, n_hidden_1])),\n",
    "    'out': tf.Variable(tf.random_normal([n_hidden_1, n_classes]))\n",
    "    \n",
    "}\n",
    "biases = {\n",
    "    'b1': tf.Variable(tf.random_normal([n_hidden_1])),\n",
    "    'out': tf.Variable(tf.random_normal([n_classes]))\n",
    "}"
   ]
  },
  {
   "cell_type": "code",
   "execution_count": 6,
   "metadata": {
    "collapsed": true
   },
   "outputs": [],
   "source": [
    "# Create model\n",
    "def multilayer_perceptron(x):\n",
    "    # Hidden fully connected layer with 256 neurons\n",
    "    layer_1 = tf.add(tf.matmul(x, weights['h1']), biases['b1'])\n",
    "    out_layer = tf.matmul(layer_1, weights['out']) + biases['out']\n",
    "    return out_layer"
   ]
  },
  {
   "cell_type": "code",
   "execution_count": 7,
   "metadata": {
    "collapsed": true
   },
   "outputs": [],
   "source": [
    "# Construct model\n",
    "logits = multilayer_perceptron(X)"
   ]
  },
  {
   "cell_type": "code",
   "execution_count": 8,
   "metadata": {
    "collapsed": true
   },
   "outputs": [],
   "source": [
    "# Define loss and optimizer\n",
    "loss_op = tf.reduce_mean(tf.nn.softmax_cross_entropy_with_logits(\n",
    "    logits=logits, labels=Y))\n",
    "optimizer = tf.train.AdamOptimizer(learning_rate=learning_rate)\n",
    "train_op = optimizer.minimize(loss_op)"
   ]
  },
  {
   "cell_type": "code",
   "execution_count": 9,
   "metadata": {},
   "outputs": [
    {
     "name": "stdout",
     "output_type": "stream",
     "text": [
      "Epoch: 0001 cost=28.324336378\n",
      "Epoch: 0002 cost=7.932121539\n",
      "Epoch: 0003 cost=5.924172065\n",
      "Epoch: 0004 cost=4.858874294\n",
      "Epoch: 0005 cost=4.193946858\n",
      "Epoch: 0006 cost=3.678970504\n",
      "Epoch: 0007 cost=3.307560816\n",
      "Epoch: 0008 cost=3.022878025\n",
      "Epoch: 0009 cost=2.757018665\n",
      "Epoch: 0010 cost=2.590802059\n",
      "Epoch: 0011 cost=2.385162545\n",
      "Epoch: 0012 cost=2.282708634\n",
      "Epoch: 0013 cost=2.107260968\n",
      "Epoch: 0014 cost=2.006777644\n",
      "Epoch: 0015 cost=1.888892937\n",
      "Optimization Finished!\n",
      "Accuracy of MNIST Train Data: 0.900818\n",
      "Accuracy of MNIST Validation Data: 0.8888\n",
      "Accuracy of MNIST Test Data: 0.8879\n",
      "Accuracy for USPS Numerals: 0.321866\n"
     ]
    }
   ],
   "source": [
    "# Initializing the variables\n",
    "init = tf.global_variables_initializer()\n",
    "\n",
    "with tf.Session() as sess:\n",
    "    sess.run(init)\n",
    "\n",
    "    # Training cycle\n",
    "    for epoch in range(training_epochs):\n",
    "        avg_cost = 0.\n",
    "        total_batch = int(mnist.train.num_examples/batch_size)\n",
    "        # Loop over all batches\n",
    "        for i in range(total_batch):\n",
    "            batch_x, batch_y = mnist.train.next_batch(batch_size)\n",
    "            # Run optimization op (backprop) and cost op (to get loss value)\n",
    "            _, c = sess.run([train_op, loss_op], feed_dict={X: batch_x,\n",
    "                                                            Y: batch_y})\n",
    "            # Compute average loss\n",
    "            avg_cost += c / total_batch\n",
    "        # Display logs per epoch step\n",
    "        if epoch % display_step == 0:\n",
    "            print(\"Epoch:\", '%04d' % (epoch+1), \"cost={:.9f}\".format(avg_cost))\n",
    "    print(\"Optimization Finished!\")\n",
    "\n",
    "    # Test model\n",
    "    pred = tf.nn.softmax(logits)  # Apply softmax to logits\n",
    "    correct_prediction = tf.equal(tf.argmax(pred, 1), tf.argmax(Y, 1))\n",
    "    # Calculate accuracy\n",
    "    accuracy = tf.reduce_mean(tf.cast(correct_prediction, \"float\"))\n",
    "    print(\"Accuracy of MNIST Train Data:\", accuracy.eval({X: mnist.train.images, Y: mnist.train.labels}))\n",
    "    print(\"Accuracy of MNIST Validation Data:\", accuracy.eval({X: mnist.validation.images, Y: mnist.validation.labels}))\n",
    "    print(\"Accuracy of MNIST Test Data:\", accuracy.eval({X: mnist.test.images, Y: mnist.test.labels}))\n",
    "    \n",
    "    print(\"Accuracy for USPS Numerals:\", accuracy.eval({X: USPS_img_array, Y: USPS_label_array}))"
   ]
  },
  {
   "cell_type": "code",
   "execution_count": 2,
   "metadata": {
    "collapsed": true
   },
   "outputs": [],
   "source": [
    "def get_my_usps_data(): \n",
    "    import zipfile\n",
    "    import os\n",
    "    from PIL import Image\n",
    "    import PIL.ImageOps  \n",
    "    import numpy as np\n",
    "    import tensorflow  as tf\n",
    "    import matplotlib.pyplot as plt\n",
    "\n",
    "    filename=\"usps_dataset_handwritten.zip\"\n",
    "\n",
    "    #Defining height,width for resizing the images to 28x28 like MNIST digits\n",
    "    height=28\n",
    "    width=28\n",
    "\n",
    "    #Defining path for extracting dataset zip file\n",
    "    extract_path = \"usps_data\"\n",
    "\n",
    "    #Defining image,label list\n",
    "    images = []\n",
    "    img_list = []\n",
    "    labels = []\n",
    "\n",
    "    #Extracting given dataset file    \n",
    "    with zipfile.ZipFile(filename, 'r') as zip:\n",
    "        zip.extractall(extract_path)\n",
    "\n",
    "    #Extracting labels,images array needed for training    \n",
    "    for root, dirs, files in os.walk(\".\"):\n",
    "        path = root.split(os.sep)\n",
    "\n",
    "        if \"Numerals\" in path:\n",
    "            image_files = [fname for fname in files if fname.find(\".png\") >= 0]\n",
    "            for file in image_files:\n",
    "                labels.append(int(path[-1]))\n",
    "                images.append(os.path.join(*path, file)) \n",
    "\n",
    "    #Resizing images like MNIST dataset   \n",
    "    for idx, imgs in enumerate(images):\n",
    "        img = Image.open(imgs).convert('L') \n",
    "        img = img.resize((height, width), Image.ANTIALIAS)\n",
    "        img_data = list(img.getdata())\n",
    "        img_list.append(img_data)\n",
    "\n",
    "    #Storing image and labels in arrays to be used for training   \n",
    "    USPS_img_array = np.array(img_list)\n",
    "    USPS_img_array = np.subtract(255, USPS_img_array)\n",
    "    USPS_label_array = np.array(labels)\n",
    "    #print(USPS_label_array.shape)\n",
    "    nb_classes = 10\n",
    "    targets = np.array(USPS_label_array).reshape(-1)\n",
    "    aa = np.eye(nb_classes)[targets]\n",
    "    USPS_label_array = np.array(aa, dtype=np.int32)\n",
    "    #print(USPS_label_array)\n",
    "\n",
    "\n",
    "    USPS_img_array = np.float_(np.array(USPS_img_array))\n",
    "    for z in range(len(USPS_img_array)):\n",
    "        USPS_img_array[z] /= 255.0 \n",
    "\n",
    "    plt.imshow(USPS_img_array[19998].reshape(28,28))\n",
    "    plt.show()\n",
    "    \n",
    "    \n",
    "    return USPS_img_array, USPS_label_array\n"
   ]
  },
  {
   "cell_type": "code",
   "execution_count": 3,
   "metadata": {},
   "outputs": [
    {
     "data": {
      "image/png": "[encoded data removed]",
      "text/plain": [
       "<matplotlib.figure.Figure at 0x1927fc29e48>"
      ]
     },
     "metadata": {},
     "output_type": "display_data"
    }
   ],
   "source": [
    "\n",
    "USPS_img_array, USPS_label_array = get_my_usps_data()"
   ]
  },
  {
   "cell_type": "code",
   "execution_count": null,
   "metadata": {
    "collapsed": true
   },
   "outputs": [],
   "source": []
  }
 ],
 "metadata": {
  "kernelspec": {
   "display_name": "Python 3",
   "language": "python",
   "name": "python3"
  },
  "language_info": {
   "codemirror_mode": {
    "name": "ipython",
    "version": 3
   },
   "file_extension": ".py",
   "mimetype": "text/x-python",
   "name": "python",
   "nbconvert_exporter": "python",
   "pygments_lexer": "ipython3",
   "version": "3.5.4"
  }
 },
 "nbformat": 4,
 "nbformat_minor": 2
}
