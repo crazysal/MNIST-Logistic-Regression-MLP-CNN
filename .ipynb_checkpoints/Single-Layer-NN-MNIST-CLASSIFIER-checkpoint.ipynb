{
 "cells": [
  {
   "cell_type": "markdown",
   "metadata": {},
   "source": [
    "# Single Layer NN using TensorFlow\n",
    "The following code classifies MNIST dataset using a single layer NN with softmax activation function, Cross entropy loss function and Mini-batch Technique\n",
    "\n",
    "## Softmax Function\n",
    "$$\n",
    "\\sigma(z){_j} = \\frac{e^{z_j}}{\\sum_{k=1}^{K}e^{z_j}}\n",
    "$$\n",
    "\n",
    "## Cross Entropy\n",
    "$$\n",
    "Cross Entropy = -{\\sum_{i=1}^{i=n}Y_{i}^{'}.\\log(Y^i)}\n",
    "$$\n",
    "\n",
    "## Mini-batch Technique\n",
    "Taking a btach of 100 images in a single iteration. 2 Reasons to use it:\n",
    "1. Analyzing Single image results in a curvy descent. Knowledge of 100 images at a single time gives a more precise consensus of the gradient\n",
    "2. We do distributed processing using GPUs on which matrix multiplications works faster. (Optimised for GPUs)"
   ]
  },
  {
   "cell_type": "code",
   "execution_count": 1,
   "metadata": {
    "collapsed": true
   },
   "outputs": [],
   "source": [
    "import os\n",
    "os.environ['TF_CPP_MIN_LOG_LEVEL']='2'\n",
    "import tensorflow as tf\n",
    "import matplotlib.pyplot as plt\n",
    "import matplotlib.patches as mpatches\n",
    "%matplotlib inline"
   ]
  },
  {
   "cell_type": "markdown",
   "metadata": {},
   "source": [
    "## Load Data\n",
    "MNIST dataset is a handwritten numbers dataset. We download it from tensorflow examples.<br/>\n",
    "Make sure to change the path according to your need"
   ]
  },
  {
   "cell_type": "code",
   "execution_count": 2,
   "metadata": {},
   "outputs": [
    {
     "name": "stdout",
     "output_type": "stream",
     "text": [
      "Extracting tutorials/data/MNIST/train-images-idx3-ubyte.gz\n",
      "Extracting tutorials/data/MNIST/train-labels-idx1-ubyte.gz\n",
      "Extracting tutorials/data/MNIST/t10k-images-idx3-ubyte.gz\n",
      "Extracting tutorials/data/MNIST/t10k-labels-idx1-ubyte.gz\n",
      "Extraction of images is complete.\n"
     ]
    }
   ],
   "source": [
    "from tensorflow.examples.tutorials.mnist import input_data\n",
    "mnist = input_data.read_data_sets(\"tutorials/data/MNIST/\", one_hot=True)\n",
    "print(\"Extraction of images is complete.\")"
   ]
  },
  {
   "cell_type": "markdown",
   "metadata": {},
   "source": [
    "## TensorFlow Placeholders\n",
    "Tensorflow placeholders are like variables waiting for input. They are access points to the computational graphs on which we can just feed into the graph."
   ]
  },
  {
   "cell_type": "code",
   "execution_count": 3,
   "metadata": {},
   "outputs": [],
   "source": [
    "X = tf.placeholder(tf.float32, [None, 784])\n",
    "W = tf.Variable(tf.zeros([784, 10]))\n",
    "b = tf.Variable(tf.zeros([10]))\n",
    "init = tf.global_variables_initializer()"
   ]
  },
  {
   "cell_type": "markdown",
   "metadata": {},
   "source": [
    "## Model\n",
    "Our model is a Softmax Function applied over the weighted sum of the image pixels along with a bias added to it.\n",
    "$$\n",
    "Y = softmax(X.W + b)\n",
    "$$\n",
    "Where,<br/>\n",
    "X = flattened image vector (1, 784)<br/>\n",
    "W = Weights matrix of shape (784, 10) -> 784 weights for each pixel and 1 column for each class [0-9]<br/>\n",
    "b = bias vector with 10 columns, each column representing a class<br/>\n",
    "## Role of Mini-batch\n",
    "Since, we are using mini-batch technique. We will use X as a flattened image matrix with 100 rows, each row representing a flattened image."
   ]
  },
  {
   "cell_type": "code",
   "execution_count": 4,
   "metadata": {},
   "outputs": [],
   "source": [
    "Y = tf.nn.softmax(tf.matmul(X, W) + b)"
   ]
  },
  {
   "cell_type": "markdown",
   "metadata": {},
   "source": [
    "## Placeholder for correct Label\n",
    "We need a Placeholder, to hold the correct labels, which will help us to compute the accuracy and cross-entropy of our model."
   ]
  },
  {
   "cell_type": "code",
   "execution_count": 5,
   "metadata": {
    "collapsed": true
   },
   "outputs": [],
   "source": [
    "Y_ = tf.placeholder(tf.float32, [None, 10])"
   ]
  },
  {
   "cell_type": "markdown",
   "metadata": {},
   "source": [
    "## Loss Function\n",
    "As discussed above we are using cross-entropy loss function\n",
    "$$\n",
    "Cross Entropy = -{\\sum_{i=1}^{i=n}Y_{i}^{'}.\\log(Y^i)}\n",
    "$$"
   ]
  },
  {
   "cell_type": "code",
   "execution_count": 6,
   "metadata": {
    "collapsed": true
   },
   "outputs": [],
   "source": [
    "cross_entropy = -tf.reduce_sum(Y_ * tf.log(Y))"
   ]
  },
  {
   "cell_type": "markdown",
   "metadata": {},
   "source": [
    "## % of correct answers found in batch\n",
    "Graph nodes to compute the accuracy of our model"
   ]
  },
  {
   "cell_type": "code",
   "execution_count": 7,
   "metadata": {},
   "outputs": [],
   "source": [
    "is_correct = tf.equal(tf.arg_max(Y_, 1), tf.arg_max(Y, 1))\n",
    "accuracy = tf.reduce_mean(tf.cast(is_correct, tf.float32))"
   ]
  },
  {
   "cell_type": "markdown",
   "metadata": {},
   "source": [
    "## Optimizer\n",
    "We are using the simplest Gradient Descent technique as an optimizer, with a learning rate of 0.003. This means we will be adding the 0.3% value of our gradient to the weights everytime. \n",
    "## Why Gradient?\n",
    "Gradients have a unique property to point towards the minima of the curve. Thus resulting in, change of weights to reach a minima in the loss function."
   ]
  },
  {
   "cell_type": "code",
   "execution_count": 8,
   "metadata": {
    "collapsed": true
   },
   "outputs": [],
   "source": [
    "optimizer = tf.train.GradientDescentOptimizer(0.003)\n",
    "train_step = optimizer.minimize(cross_entropy)"
   ]
  },
  {
   "cell_type": "markdown",
   "metadata": {},
   "source": [
    "## Session\n",
    "According to definition on tensorflow documentation:\n",
    "> A Session object encapsulates the environment in which Operation objects are executed, and Tensor objects are evaluated.\n",
    "\n",
    "Well, we can say this is a kind of main function to our computational graph. That is, it starts the execution of the graph in the order, we added the computational nodes."
   ]
  },
  {
   "cell_type": "code",
   "execution_count": 9,
   "metadata": {
    "collapsed": true
   },
   "outputs": [],
   "source": [
    "sess = tf.Session()\n",
    "sess.run(init)"
   ]
  },
  {
   "cell_type": "markdown",
   "metadata": {},
   "source": [
    "## Training\n",
    "Time to train the system. We run 2000 iterations on the train step and compute the accuracy and cross-entropy on each step. Along side we compute the accuracy and cross-entropy on the test set on each iteration, to see the improvement on alien data."
   ]
  },
  {
   "cell_type": "code",
   "execution_count": 10,
   "metadata": {},
   "outputs": [],
   "source": [
    "# no. of iterations\n",
    "n_iter = 2000\n",
    "\n",
    "# test set\n",
    "test_data = {X: mnist.test.images, Y_: mnist.test.labels}\n",
    "\n",
    "# lists to hold train accuracy and cross-entropy\n",
    "acc_train_li = []\n",
    "cross_train_li = []\n",
    "\n",
    "# lists to hold test accuracy and cross-entropy\n",
    "acc_test_li = []\n",
    "cross_test_li = []\n",
    "\n",
    "for i in range(n_iter):\n",
    "    # load batch of images and correct answer\n",
    "    bacth_X, batch_Y = mnist.train.next_batch(100)\n",
    "    train_data = {X: bacth_X, Y_: batch_Y}\n",
    "    \n",
    "    # train\n",
    "    sess.run(train_step, feed_dict=train_data)\n",
    "    \n",
    "    # find accuracy and cross entropy on current data\n",
    "    a, c = sess.run([accuracy, cross_entropy], feed_dict=train_data)\n",
    "    acc_train_li.append(a)\n",
    "    cross_train_li.append(c)\n",
    "    \n",
    "    # find accuracy and cross entropy on test data\n",
    "    a, c = sess.run([accuracy, cross_entropy], feed_dict=test_data)\n",
    "    acc_test_li.append(a)\n",
    "    cross_test_li.append(c)"
   ]
  },
  {
   "cell_type": "markdown",
   "metadata": {},
   "source": [
    "## Plot the graph\n",
    "We plot 2 graphs:\n",
    "1. Accuracy graph - To display the accuracy on the train data and test data\n",
    "2. Cross-entropy graph - To display the cross-entropy loss on train and test data"
   ]
  },
  {
   "cell_type": "code",
   "execution_count": 14,
   "metadata": {},
   "outputs": [
    {
     "data": {
      "image/png": "[encoded data removed]",
      "text/plain": [
       "<matplotlib.figure.Figure at 0x27d94bf2f60>"
      ]
     },
     "metadata": {},
     "output_type": "display_data"
    }
   ],
   "source": [
    "x = list(range(n_iter))\n",
    "\n",
    "blue_patch = mpatches.Patch(color='blue', label='Train Data')\n",
    "red_patch = mpatches.Patch(color='red', label='Test Data')\n",
    "\n",
    "plt.figure(0, figsize=(10, 12))\n",
    "\n",
    "plt.subplot(211)\n",
    "plt.title(\"Accuracy\")\n",
    "plt.legend(handles=[blue_patch, red_patch])\n",
    "plt.plot(x, acc_train_li, color='blue')\n",
    "plt.plot(x, acc_test_li, color='red')\n",
    "\n",
    "plt.subplot(212)\n",
    "plt.legend(handles=[blue_patch, red_patch])\n",
    "plt.title(\"Cross-Entropy Loss\")\n",
    "plt.plot(x, cross_train_li, color='blue')\n",
    "plt.plot(x, cross_test_li, color='red')\n",
    "\n",
    "plt.savefig(\"acc_loss.png\")\n",
    "\n",
    "plt.show()"
   ]
  },
  {
   "cell_type": "markdown",
   "metadata": {
    "collapsed": true
   },
   "source": [
    "## Final Loss and Accuracy\n",
    "Let's have a peek at the final loss and accuracy of the training and test sets"
   ]
  },
  {
   "cell_type": "code",
   "execution_count": 12,
   "metadata": {},
   "outputs": [
    {
     "name": "stdout",
     "output_type": "stream",
     "text": [
      "Train Set Accuracy: 0.9200000166893005 \t Train Set cross-entropy Loss: 25.540407180786133\n",
      "Test Set Accuracy: 0.921000063419342 \t Test Set cross-entropy Loss: 2800.803466796875\n"
     ]
    }
   ],
   "source": [
    "print('Train Set Accuracy: {} \\t Train Set cross-entropy Loss: {}'.format(acc_train_li[-1], cross_train_li[-1]))\n",
    "print('Test Set Accuracy: {} \\t Test Set cross-entropy Loss: {}'.format(acc_test_li[-1], cross_test_li[-1]))"
   ]
  },
  {
   "cell_type": "markdown",
   "metadata": {},
   "source": [
    "## Conclusion\n",
    "Using a Single layered neural network resulted in an accuracy of approximately 92%. Considering the situation of using this system in a post office to detect hand written numbers can be a devastating.<br/>Why? Because, according to our finding it will misinterpret 8 out every 100 images (92%)."
   ]
  }
 ],
 "metadata": {
  "kernelspec": {
   "display_name": "Python 3",
   "language": "python",
   "name": "python3"
  },
  "language_info": {
   "codemirror_mode": {
    "name": "ipython",
    "version": 3
   },
   "file_extension": ".py",
   "mimetype": "text/x-python",
   "name": "python",
   "nbconvert_exporter": "python",
   "pygments_lexer": "ipython3",
   "version": "3.6.1"
  }
 },
 "nbformat": 4,
 "nbformat_minor": 2
}
