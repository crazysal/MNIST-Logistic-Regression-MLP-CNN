{
 "cells": [
  {
   "cell_type": "code",
   "execution_count": 36,
   "metadata": {
    "collapsed": true
   },
   "outputs": [],
   "source": [
    "from tensorflow.examples.tutorials.mnist import input_data\n",
    "import numpy as np\n",
    "import pandas as pd\n",
    "import numpy as np\n",
    "import matplotlib.pyplot as plt\n",
    "%matplotlib inline\n",
    "import scipy.sparse"
   ]
  },
  {
   "cell_type": "code",
   "execution_count": 37,
   "metadata": {},
   "outputs": [
    {
     "name": "stdout",
     "output_type": "stream",
     "text": [
      "Extracting MNIST_data/train-images-idx3-ubyte.gz\n",
      "Extracting MNIST_data/train-labels-idx1-ubyte.gz\n",
      "Extracting MNIST_data/t10k-images-idx3-ubyte.gz\n",
      "Extracting MNIST_data/t10k-labels-idx1-ubyte.gz\n"
     ]
    }
   ],
   "source": [
    "mnist = input_data.read_data_sets(\"MNIST_data/\", one_hot=True)\n",
    "\n",
    "#Extract feature values and labels from the data\n",
    "mnist_train_labels = np.array(mnist.train.labels)\n",
    "mnist_train_images =  np.array(mnist.train.images)\n",
    "mnist_valid_images =  np.array(mnist.validation.images)\n",
    "mnist_valid_labels =  np.array(mnist.validation.labels)\n",
    "mnist_test_labels =  np.array(mnist.test.labels)\n",
    "mnist_test_images =  np.array(mnist.test.images)\n"
   ]
  },
  {
   "cell_type": "code",
   "execution_count": 38,
   "metadata": {},
   "outputs": [
    {
     "data": {
      "text/plain": [
       "<matplotlib.image.AxesImage at 0x2789f603358>"
      ]
     },
     "execution_count": 38,
     "metadata": {},
     "output_type": "execute_result"
    },
    {
     "data": {
      "image/png": "[encoded data removed]",
      "text/plain": [
       "<matplotlib.figure.Figure at 0x278a08b1ba8>"
      ]
     },
     "metadata": {},
     "output_type": "display_data"
    }
   ],
   "source": [
    "example = mnist_train_images[100]\n",
    "mnist_train_images.shape\n",
    "plt.imshow(np.reshape(example,[28,28]))"
   ]
  },
  {
   "cell_type": "code",
   "execution_count": 39,
   "metadata": {
    "collapsed": true
   },
   "outputs": [],
   "source": [
    "# ...\n",
    "# Here we determine the probabilities and predictions for each class when given a set of input data\n",
    "# ...\n",
    "def getProbsAndPreds(someX):\n",
    "    probs = softmax(np.dot(someX,w))\n",
    "    preds = np.argmax(probs,axis=1)\n",
    "    return probs,preds"
   ]
  },
  {
   "cell_type": "code",
   "execution_count": 40,
   "metadata": {
    "collapsed": true
   },
   "outputs": [],
   "source": [
    "# ...\n",
    "# Here we perform the softmax transformation: This allows us to get probabilities for each class score that sum to 100%.\n",
    "# ...\n",
    "def softmax(z):\n",
    "    z -= np.max(z)\n",
    "    sm = (np.exp(z).T / np.sum(np.exp(z),axis=1)).T\n",
    "#     print(\"Returning softmax : \", sm)\n",
    "    return sm"
   ]
  },
  {
   "cell_type": "code",
   "execution_count": 41,
   "metadata": {
    "collapsed": true
   },
   "outputs": [],
   "source": [
    "# ...\n",
    "# Here we define the loss function for softmax regression.\n",
    "# ...\n",
    "def getLoss(w,x,y,lam):\n",
    "    m = x.shape[0] #First we get the number of training examples    \n",
    "    scores = np.dot(x,w) #Then we compute raw class scores given our input and current weights\n",
    "    prob = softmax(scores) #Next we perform a softmax on these scores to get their probabilities\n",
    "    loss = (-1 / m) * np.sum(y * np.log(prob)) + (lam/2)*np.sum(w*w) #We then find the loss of the probabilities\n",
    "    grad = (-1 / m) * np.dot(x.T,(y - prob)) + lam*w #And compute the gradient for that loss\n",
    "    return loss,grad"
   ]
  },
  {
   "cell_type": "code",
   "execution_count": 44,
   "metadata": {},
   "outputs": [
    {
     "name": "stdout",
     "output_type": "stream",
     "text": [
      "Loss for iteration :  0 is :  2.30258509299\n",
      "Loss for iteration :  1 is :  2.30257426964\n",
      "Loss for iteration :  2 is :  2.30256344661\n",
      "Loss for iteration :  3 is :  2.3025526239\n",
      "Loss for iteration :  4 is :  2.30254180152\n",
      "Loss for iteration :  5 is :  2.30253097947\n",
      "Loss for iteration :  6 is :  2.30252015774\n",
      "Loss for iteration :  7 is :  2.30250933633\n",
      "Loss for iteration :  8 is :  2.30249851525\n",
      "Loss for iteration :  9 is :  2.3024876945\n",
      "Loss for iteration :  10 is :  2.30247687407\n",
      "Loss for iteration :  11 is :  2.30246605396\n",
      "Loss for iteration :  12 is :  2.30245523418\n",
      "Loss for iteration :  13 is :  2.30244441473\n",
      "Loss for iteration :  14 is :  2.3024335956\n",
      "Loss for iteration :  15 is :  2.30242277679\n",
      "Loss for iteration :  16 is :  2.30241195831\n",
      "Loss for iteration :  17 is :  2.30240114016\n",
      "Loss for iteration :  18 is :  2.30239032233\n",
      "Loss for iteration :  19 is :  2.30237950482\n",
      "Loss for iteration :  20 is :  2.30236868764\n",
      "Loss for iteration :  21 is :  2.30235787079\n",
      "Loss for iteration :  22 is :  2.30234705425\n",
      "Loss for iteration :  23 is :  2.30233623805\n",
      "Loss for iteration :  24 is :  2.30232542217\n",
      "Loss for iteration :  25 is :  2.30231460661\n",
      "Loss for iteration :  26 is :  2.30230379138\n",
      "Loss for iteration :  27 is :  2.30229297647\n",
      "Loss for iteration :  28 is :  2.30228216189\n",
      "Loss for iteration :  29 is :  2.30227134763\n",
      "Loss for iteration :  30 is :  2.3022605337\n",
      "Loss for iteration :  31 is :  2.30224972009\n",
      "Loss for iteration :  32 is :  2.30223890681\n",
      "Loss for iteration :  33 is :  2.30222809385\n",
      "Loss for iteration :  34 is :  2.30221728122\n",
      "Loss for iteration :  35 is :  2.30220646891\n",
      "Loss for iteration :  36 is :  2.30219565693\n",
      "Loss for iteration :  37 is :  2.30218484527\n",
      "Loss for iteration :  38 is :  2.30217403393\n",
      "Loss for iteration :  39 is :  2.30216322292\n",
      "Loss for iteration :  40 is :  2.30215241224\n",
      "Loss for iteration :  41 is :  2.30214160188\n",
      "Loss for iteration :  42 is :  2.30213079184\n",
      "Loss for iteration :  43 is :  2.30211998213\n",
      "Loss for iteration :  44 is :  2.30210917274\n",
      "Loss for iteration :  45 is :  2.30209836368\n",
      "Loss for iteration :  46 is :  2.30208755494\n",
      "Loss for iteration :  47 is :  2.30207674653\n",
      "Loss for iteration :  48 is :  2.30206593844\n",
      "Loss for iteration :  49 is :  2.30205513067\n",
      "Loss for iteration :  50 is :  2.30204432323\n",
      "Loss for iteration :  51 is :  2.30203351612\n",
      "Loss for iteration :  52 is :  2.30202270933\n",
      "Loss for iteration :  53 is :  2.30201190286\n",
      "Loss for iteration :  54 is :  2.30200109672\n",
      "Loss for iteration :  55 is :  2.3019902909\n",
      "Loss for iteration :  56 is :  2.30197948541\n",
      "Loss for iteration :  57 is :  2.30196868024\n",
      "Loss for iteration :  58 is :  2.3019578754\n",
      "Loss for iteration :  59 is :  2.30194707088\n",
      "Loss for iteration :  60 is :  2.30193626668\n",
      "Loss for iteration :  61 is :  2.30192546281\n",
      "Loss for iteration :  62 is :  2.30191465926\n",
      "Loss for iteration :  63 is :  2.30190385604\n",
      "Loss for iteration :  64 is :  2.30189305314\n",
      "Loss for iteration :  65 is :  2.30188225057\n",
      "Loss for iteration :  66 is :  2.30187144832\n",
      "Loss for iteration :  67 is :  2.3018606464\n",
      "Loss for iteration :  68 is :  2.3018498448\n",
      "Loss for iteration :  69 is :  2.30183904352\n",
      "Loss for iteration :  70 is :  2.30182824257\n",
      "Loss for iteration :  71 is :  2.30181744194\n",
      "Loss for iteration :  72 is :  2.30180664164\n",
      "Loss for iteration :  73 is :  2.30179584166\n",
      "Loss for iteration :  74 is :  2.301785042\n",
      "Loss for iteration :  75 is :  2.30177424267\n",
      "Loss for iteration :  76 is :  2.30176344367\n",
      "Loss for iteration :  77 is :  2.30175264498\n",
      "Loss for iteration :  78 is :  2.30174184662\n",
      "Loss for iteration :  79 is :  2.30173104859\n",
      "Loss for iteration :  80 is :  2.30172025088\n",
      "Loss for iteration :  81 is :  2.30170945349\n",
      "Loss for iteration :  82 is :  2.30169865643\n",
      "Loss for iteration :  83 is :  2.3016878597\n",
      "Loss for iteration :  84 is :  2.30167706328\n",
      "Loss for iteration :  85 is :  2.30166626719\n",
      "Loss for iteration :  86 is :  2.30165547143\n",
      "Loss for iteration :  87 is :  2.30164467599\n",
      "Loss for iteration :  88 is :  2.30163388087\n",
      "Loss for iteration :  89 is :  2.30162308608\n",
      "Loss for iteration :  90 is :  2.30161229161\n",
      "Loss for iteration :  91 is :  2.30160149746\n",
      "Loss for iteration :  92 is :  2.30159070364\n",
      "Loss for iteration :  93 is :  2.30157991014\n",
      "Loss for iteration :  94 is :  2.30156911697\n",
      "Loss for iteration :  95 is :  2.30155832412\n",
      "Loss for iteration :  96 is :  2.3015475316\n",
      "Loss for iteration :  97 is :  2.3015367394\n",
      "Loss for iteration :  98 is :  2.30152594752\n",
      "Loss for iteration :  99 is :  2.30151515596\n",
      "2.30151515596\n"
     ]
    }
   ],
   "source": [
    "# ...\n",
    "# This is the main loop of the softmax regression.\n",
    "# Here we initialize our weights, regularization factor, number of iterations,\n",
    "# and learning rate. We then loop over a computation of the loss and gradient,\n",
    "# and application of gradient.\n",
    "# ...\n",
    "x = mnist_train_images\n",
    "y = mnist_train_labels\n",
    "w = np.zeros([x.shape[1], 10])\n",
    "lam = 1\n",
    "iterations = 100\n",
    "learningRate = 1e-5\n",
    "losses = []\n",
    "for i in range(0,iterations):\n",
    "    loss,grad = getLoss(w,x,y,lam)\n",
    "    losses.append(loss)\n",
    "    w = w - (learningRate * grad)\n",
    "    print(\"Loss for iteration : \", i, \"is : \", loss)\n",
    "print(loss)"
   ]
  },
  {
   "cell_type": "code",
   "execution_count": 45,
   "metadata": {},
   "outputs": [
    {
     "data": {
      "text/plain": [
       "[<matplotlib.lines.Line2D at 0x278b6681c88>]"
      ]
     },
     "execution_count": 45,
     "metadata": {},
     "output_type": "execute_result"
    },
    {
     "data": {
      "image/png": "[encoded data removed]",
      "text/plain": [
       "<matplotlib.figure.Figure at 0x2789f601e80>"
      ]
     },
     "metadata": {},
     "output_type": "display_data"
    }
   ],
   "source": [
    "plt.plot(losses)"
   ]
  },
  {
   "cell_type": "code",
   "execution_count": 46,
   "metadata": {
    "scrolled": true
   },
   "outputs": [
    {
     "data": {
      "text/plain": [
       "<matplotlib.image.AxesImage at 0x278b674dda0>"
      ]
     },
     "execution_count": 46,
     "metadata": {},
     "output_type": "execute_result"
    },
    {
     "data": {
      "image/png": "[encoded data removed]",
      "text/plain": [
       "<matplotlib.figure.Figure at 0x278945e8b38>"
      ]
     },
     "metadata": {},
     "output_type": "display_data"
    }
   ],
   "source": [
    "classWeightsToVisualize = 8\n",
    "plt.imshow(scipy.reshape(w[:,classWeightsToVisualize],[28,28]))"
   ]
  },
  {
   "cell_type": "code",
   "execution_count": 49,
   "metadata": {},
   "outputs": [
    {
     "name": "stdout",
     "output_type": "stream",
     "text": [
      "Training Accuracy:  0.6625272727272727\n",
      "Test Accuracy:  0.671\n"
     ]
    }
   ],
   "source": [
    "print ('Training Accuracy: ', getAccuracy(x,y))\n",
    "testX = mnist_test_images\n",
    "testY = mnist_test_labels\n",
    "print ( 'Test Accuracy: ', getAccuracy(testX,testY))"
   ]
  },
  {
   "cell_type": "code",
   "execution_count": 48,
   "metadata": {
    "collapsed": true
   },
   "outputs": [],
   "source": [
    "def getAccuracy(someX,someY):\n",
    "    prob,prede = getProbsAndPreds(someX)\n",
    "    c = 0;\n",
    "    for i in range(len(someY)):\n",
    "        test = someY[i, prede[i]]\n",
    "        if  test == 1:\n",
    "            c+=1\n",
    "    accuracy = c/(float(len(someY)))        \n",
    "    return accuracy"
   ]
  },
  {
   "cell_type": "code",
   "execution_count": 33,
   "metadata": {
    "collapsed": true
   },
   "outputs": [],
   "source": [
    "def get_my_usps_data(): \n",
    "    import zipfile\n",
    "    import os\n",
    "    from PIL import Image\n",
    "    import PIL.ImageOps  \n",
    "    import numpy as np\n",
    "    import tensorflow  as tf\n",
    "    import matplotlib.pyplot as plt\n",
    "\n",
    "    filename=\"usps_dataset_handwritten.zip\"\n",
    "\n",
    "    #Defining height,width for resizing the images to 28x28 like MNIST digits\n",
    "    height=28\n",
    "    width=28\n",
    "\n",
    "    #Defining path for extracting dataset zip file\n",
    "    extract_path = \"usps_data\"\n",
    "\n",
    "    #Defining image,label list\n",
    "    images = []\n",
    "    img_list = []\n",
    "    labels = []\n",
    "\n",
    "    #Extracting given dataset file    \n",
    "    with zipfile.ZipFile(filename, 'r') as zip:\n",
    "        zip.extractall(extract_path)\n",
    "\n",
    "    #Extracting labels,images array needed for training    \n",
    "    for root, dirs, files in os.walk(\".\"):\n",
    "        path = root.split(os.sep)\n",
    "\n",
    "        if \"Numerals\" in path:\n",
    "            image_files = [fname for fname in files if fname.find(\".png\") >= 0]\n",
    "            for file in image_files:\n",
    "                labels.append(int(path[-1]))\n",
    "                images.append(os.path.join(*path, file)) \n",
    "\n",
    "    #Resizing images like MNIST dataset   \n",
    "    for idx, imgs in enumerate(images):\n",
    "        img = Image.open(imgs).convert('L') \n",
    "        img = img.resize((height, width), Image.ANTIALIAS)\n",
    "        img_data = list(img.getdata())\n",
    "        img_list.append(img_data)\n",
    "\n",
    "    #Storing image and labels in arrays to be used for training   \n",
    "    USPS_img_array = np.array(img_list)\n",
    "    USPS_img_array = np.subtract(255, USPS_img_array)\n",
    "    USPS_label_array = np.array(labels)\n",
    "    #print(USPS_label_array.shape)\n",
    "    nb_classes = 10\n",
    "    targets = np.array(USPS_label_array).reshape(-1)\n",
    "    aa = np.eye(nb_classes)[targets]\n",
    "    USPS_label_array = np.array(aa, dtype=np.int32)\n",
    "    #print(USPS_label_array)\n",
    "\n",
    "\n",
    "    USPS_img_array = np.float_(np.array(USPS_img_array))\n",
    "    for z in range(len(USPS_img_array)):\n",
    "        USPS_img_array[z] /= 255.0 \n",
    "\n",
    "    plt.imshow(USPS_img_array[19998].reshape(28,28))\n",
    "    plt.show()\n",
    "    \n",
    "    \n",
    "    return USPS_img_array, USPS_label_array"
   ]
  },
  {
   "cell_type": "code",
   "execution_count": 34,
   "metadata": {},
   "outputs": [
    {
     "data": {
      "image/png": "[encoded data removed]",
      "text/plain": [
       "<matplotlib.figure.Figure at 0x2789f663f28>"
      ]
     },
     "metadata": {},
     "output_type": "display_data"
    }
   ],
   "source": [
    "USPS_img_array, USPS_label_array = get_my_usps_data()\n"
   ]
  },
  {
   "cell_type": "code",
   "execution_count": 35,
   "metadata": {},
   "outputs": [
    {
     "name": "stdout",
     "output_type": "stream",
     "text": [
      "Extracting /tmp/data/train-images-idx3-ubyte.gz\n",
      "Extracting /tmp/data/train-labels-idx1-ubyte.gz\n",
      "Extracting /tmp/data/t10k-images-idx3-ubyte.gz\n",
      "Extracting /tmp/data/t10k-labels-idx1-ubyte.gz\n",
      "Epoch: 0001 cost= 1.183795122\n",
      "Epoch: 0002 cost= 0.665195716\n",
      "Epoch: 0003 cost= 0.552762509\n",
      "Epoch: 0004 cost= 0.498667078\n",
      "Epoch: 0005 cost= 0.465457584\n",
      "Epoch: 0006 cost= 0.442547556\n",
      "Epoch: 0007 cost= 0.425525734\n",
      "Epoch: 0008 cost= 0.412158962\n",
      "Epoch: 0009 cost= 0.401384600\n",
      "Epoch: 0010 cost= 0.392403505\n",
      "Epoch: 0011 cost= 0.384773200\n",
      "Epoch: 0012 cost= 0.378174692\n",
      "Epoch: 0013 cost= 0.372425060\n",
      "Epoch: 0014 cost= 0.367293216\n",
      "Epoch: 0015 cost= 0.362725902\n",
      "Epoch: 0016 cost= 0.358642988\n",
      "Epoch: 0017 cost= 0.354847474\n",
      "Epoch: 0018 cost= 0.351436241\n",
      "Epoch: 0019 cost= 0.348350410\n",
      "Epoch: 0020 cost= 0.345441545\n",
      "Epoch: 0021 cost= 0.342750276\n",
      "Epoch: 0022 cost= 0.340259032\n",
      "Epoch: 0023 cost= 0.337914452\n",
      "Epoch: 0024 cost= 0.335685684\n",
      "Epoch: 0025 cost= 0.333686076\n",
      "Optimization Finished!\n",
      "Accuracy of MNIST Training SET: 0.907691\n",
      "Accuracy of MNIST VAlidation SET: 0.9146\n",
      "Accuracy of MNIST TESTING SET: 0.914\n",
      "Accuracy of USPS Numeral SET: 0.379719\n"
     ]
    }
   ],
   "source": [
    "'''\n",
    "A logistic regression learning algorithm example using TensorFlow library.\n",
    "This example is using the MNIST database of handwritten digits\n",
    "(http://yann.lecun.com/exdb/mnist/)\n",
    "\n",
    "'''\n",
    "\n",
    "from __future__ import print_function\n",
    "\n",
    "import tensorflow as tf\n",
    "\n",
    "# Import MNIST data\n",
    "from tensorflow.examples.tutorials.mnist import input_data\n",
    "mnist = input_data.read_data_sets(\"/tmp/data/\", one_hot=True)\n",
    "\n",
    "# Parameters\n",
    "learning_rate = 0.01\n",
    "training_epochs = 25\n",
    "batch_size = 100\n",
    "display_step = 1\n",
    "\n",
    "# tf Graph Input\n",
    "x = tf.placeholder(tf.float32, [None, 784]) # mnist data image of shape 28*28=784\n",
    "y = tf.placeholder(tf.float32, [None, 10]) # 0-9 digits recognition => 10 classes labels\n",
    "\n",
    "# Set model weights\n",
    "W = tf.Variable(tf.zeros([784, 10]))\n",
    "b = tf.Variable(tf.zeros([10]))\n",
    "\n",
    "# Construct model\n",
    "pred = tf.nn.softmax(tf.matmul(x, W) + b) # Softmax predicted values\n",
    "\n",
    "# Minimize error using cross entropy\n",
    "cost = tf.reduce_mean(-tf.reduce_sum(y*tf.log(pred), reduction_indices=1))\n",
    "# Gradient Descent\n",
    "optimizer = tf.train.GradientDescentOptimizer(learning_rate).minimize(cost)\n",
    "\n",
    "# Initialize the variables (i.e. assign their default value)\n",
    "init = tf.global_variables_initializer()\n",
    "\n",
    "# Start training\n",
    "with tf.Session() as sess:\n",
    "\n",
    "    # Run the initializer\n",
    "    sess.run(init)\n",
    "\n",
    "    # Training cycle\n",
    "    for epoch in range(training_epochs):\n",
    "        avg_cost = 0.\n",
    "        total_batch = int(mnist.train.num_examples/batch_size)\n",
    "        # Loop over all batches\n",
    "        for i in range(total_batch):\n",
    "            batch_xs, batch_ys = mnist.train.next_batch(batch_size)\n",
    "            # Run optimization op (backprop) and cost op (to get loss value)\n",
    "            _, c = sess.run([optimizer, cost], feed_dict={x: batch_xs,\n",
    "                                                          y: batch_ys})\n",
    "            # Compute average loss\n",
    "            avg_cost += c / total_batch\n",
    "        # Display logs per epoch step\n",
    "        if (epoch+1) % display_step == 0:\n",
    "            print(\"Epoch:\", '%04d' % (epoch+1), \"cost=\", \"{:.9f}\".format(avg_cost))\n",
    "\n",
    "    print(\"Optimization Finished!\")\n",
    "\n",
    "    # Test model\n",
    "    correct_prediction = tf.equal(tf.argmax(pred, 1), tf.argmax(y, 1))\n",
    "    # Calculate accuracy\n",
    "    accuracy = tf.reduce_mean(tf.cast(correct_prediction, tf.float32))\n",
    "    \n",
    "    print(\"Accuracy of MNIST Training SET:\", accuracy.eval({x: mnist.train.images, y: mnist.train.labels}))\n",
    "    print(\"Accuracy of MNIST VAlidation SET:\", accuracy.eval({x: mnist.validation.images, y: mnist.validation.labels}))\n",
    "    print(\"Accuracy of MNIST TESTING SET:\", accuracy.eval({x: mnist.test.images, y: mnist.test.labels}))\n",
    "    print(\"Accuracy of USPS Numeral SET:\", accuracy.eval({x: testtty , y: np.float_(USPS_label_array)}))"
   ]
  },
  {
   "cell_type": "code",
   "execution_count": 2,
   "metadata": {},
   "outputs": [],
   "source": [
    "def aaas(): \n",
    "    return 1,2,3\n"
   ]
  },
  {
   "cell_type": "code",
   "execution_count": 6,
   "metadata": {},
   "outputs": [],
   "source": [
    "op,_,_ = aaas()"
   ]
  },
  {
   "cell_type": "code",
   "execution_count": 7,
   "metadata": {},
   "outputs": [
    {
     "data": {
      "text/plain": [
       "1"
      ]
     },
     "execution_count": 7,
     "metadata": {},
     "output_type": "execute_result"
    }
   ],
   "source": [
    "op"
   ]
  },
  {
   "cell_type": "code",
   "execution_count": null,
   "metadata": {
    "collapsed": true
   },
   "outputs": [],
   "source": []
  }
 ],
 "metadata": {
  "kernelspec": {
   "display_name": "Python 3",
   "language": "python",
   "name": "python3"
  },
  "language_info": {
   "codemirror_mode": {
    "name": "ipython",
    "version": 3
   },
   "file_extension": ".py",
   "mimetype": "text/x-python",
   "name": "python",
   "nbconvert_exporter": "python",
   "pygments_lexer": "ipython3",
   "version": "3.5.4"
  }
 },
 "nbformat": 4,
 "nbformat_minor": 2
}
