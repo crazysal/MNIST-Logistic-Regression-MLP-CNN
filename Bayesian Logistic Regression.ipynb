{
 "cells": [
  {
   "cell_type": "code",
   "execution_count": 15,
   "metadata": {},
   "outputs": [
    {
     "name": "stdout",
     "output_type": "stream",
     "text": [
      "Extracting MNIST_data/train-images-idx3-ubyte.gz\n",
      "Extracting MNIST_data/train-labels-idx1-ubyte.gz\n",
      "Extracting MNIST_data/t10k-images-idx3-ubyte.gz\n",
      "Extracting MNIST_data/t10k-labels-idx1-ubyte.gz\n"
     ]
    }
   ],
   "source": [
    "import numpy as np\n",
    "import math\n",
    "from tensorflow.examples.tutorials.mnist import input_data\n",
    "mnist = input_data.read_data_sets(\"MNIST_data/\", one_hot=True)\n",
    "\n",
    "#Extract feature values and labels from the data\n",
    "mnist_train_labels = np.array(mnist.train.labels)\n",
    "mnist_train_images =  np.array(mnist.train.images)\n",
    "mnist_valid_images =  np.array(mnist.validation.images)\n",
    "mnist_valid_labels =  np.array(mnist.validation.labels)\n",
    "mnist_test_labels =  np.array(mnist.test.labels)\n",
    "mnist_test_images =  np.array(mnist.test.images)\n"
   ]
  },
  {
   "cell_type": "code",
   "execution_count": 16,
   "metadata": {
    "collapsed": true
   },
   "outputs": [],
   "source": [
    "def pred_bayes_logistic(w_map, S_N, theta):\n",
    "    mu_a = np.dot(w_map.T, theta)\n",
    "    var_a = np.dot(np.dot(theta.T, S_N), theta)\n",
    "    kappa_var = (1 + math.pi*var_a/8)^(-0.5)\n",
    "    x = kappa_var*mu_a\n",
    "    return 1/(1 + np.exp(-x))"
   ]
  },
  {
   "cell_type": "code",
   "execution_count": 17,
   "metadata": {
    "collapsed": true
   },
   "outputs": [],
   "source": [
    "#Hyper Parameter Acquisition\n",
    "def hyper_para_bayes_logistic(m_0, S_0, Theta, y):\n",
    "    w_map = m_0\n",
    "    S_N = np.linalg.inv(S_0)\n",
    "    Theta = Theta.T\n",
    "    for i in range(Theta.shape[0]):\n",
    "        S_N = S_N + y[i]*(1-y[i])*np.matmul(Theta[i].T, Theta[i])\n",
    "    return w_map, S_N"
   ]
  },
  {
   "cell_type": "code",
   "execution_count": 18,
   "metadata": {
    "collapsed": true
   },
   "outputs": [],
   "source": [
    "class logistic_sigmoid_model:\n",
    "    def _init(self):\n",
    "        self.hyper_para_bayes_logistic = hyper_para_bayes_logistic\n",
    "        self.pred_bayes_logistic = pred_bayes_logistic\n",
    "    def training(self, Theta, y):\n",
    "        self.w0 = np.random.normal(0, 1)\n",
    "        self.S0 = np.diag(np.random.normal(0, 1, y.shape[0]))\n",
    "    # Theta n*m (n samples, m features), y n*1\n",
    "        self.w_map, self.S_N = self.hyper_para_bayes_logistic(self.w0, self.S0,Theta, y)\n",
    "    def predict(self, theta):\n",
    "        return self.pred_bayes_logistic(self.w_map, self.S_N, theta)"
   ]
  },
  {
   "cell_type": "code",
   "execution_count": 19,
   "metadata": {
    "collapsed": true
   },
   "outputs": [],
   "source": [
    "def multiclass_sigmoid_logistic(Theta, Y):\n",
    "    n_class = Y.shape[1]\n",
    "    models = []\n",
    "    for i in range(n_class):\n",
    "        models.append(logistic_sigmoid_model())\n",
    "        models[i].training(Theta, Y[:, i])\n",
    "    return models"
   ]
  },
  {
   "cell_type": "code",
   "execution_count": 11,
   "metadata": {},
   "outputs": [],
   "source": [
    "## Prediction\n",
    "def pred_multiclass_sigmoid_logistic(theta, Theta, Y):\n",
    "    models = multiclass_sigmoid_logistic(Theta, Y)\n",
    "    props = []\n",
    "    for i in range(len(models)):\n",
    "        props.append(models[i].predict(theta))\n",
    "    return max(props)"
   ]
  },
  {
   "cell_type": "code",
   "execution_count": null,
   "metadata": {
    "collapsed": true
   },
   "outputs": [],
   "source": [
    "m_0 = 0.0532\n",
    "S_0 = 0.7439\n",
    "hyper_para_bayes_logistic(m_0, S_0, Theta, y)"
   ]
  }
 ],
 "metadata": {
  "kernelspec": {
   "display_name": "Python 3",
   "language": "python",
   "name": "python3"
  },
  "language_info": {
   "codemirror_mode": {
    "name": "ipython",
    "version": 3
   },
   "file_extension": ".py",
   "mimetype": "text/x-python",
   "name": "python",
   "nbconvert_exporter": "python",
   "pygments_lexer": "ipython3",
   "version": "3.5.4"
  }
 },
 "nbformat": 4,
 "nbformat_minor": 2
}
