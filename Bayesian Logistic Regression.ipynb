{
 "cells": [
  {
   "cell_type": "code",
   "execution_count": 3,
   "metadata": {},
   "outputs": [],
   "source": [
    "import numpy as np\n",
    "import math"
   ]
  },
  {
   "cell_type": "code",
   "execution_count": 4,
   "metadata": {
    "collapsed": true
   },
   "outputs": [],
   "source": [
    "def pred_bayes_logistic(w_map, S_N, theta):\n",
    "    mu_a = np.dot(w_map.T, theta)\n",
    "    var_a = np.dot(np.dot(theta.T, S_N), theta)\n",
    "    kappa_var = (1 + math.pi*var_a/8)^(-0.5)\n",
    "    x = kappa_var*mu_a\n",
    "    return 1/(1 + np.exp(-x))"
   ]
  },
  {
   "cell_type": "code",
   "execution_count": 5,
   "metadata": {
    "collapsed": true
   },
   "outputs": [],
   "source": [
    "class logistic_sigmoid_model:\n",
    "    def _init(self):\n",
    "        self.hyper_para_bayes_logistic = hyper_para_bayes_logistic\n",
    "        self.pred_bayes_logistic = pred_bayes_logistic\n",
    "    def training(self, Theta, y):\n",
    "        self.w0 = np.random.normal(0, 1)\n",
    "        self.S0 = np.diag(np.random.normal(0, 1, y.shape[0]))\n",
    "    # Theta n*m (n samples, m features), y n*1\n",
    "        self.w_map, self.S_N = self.hyper_para_bayes_logistic(self.w0, self.S0,Theta, y)\n",
    "    def predict(self, theta):\n",
    "        return self.pred_bayes_logistic(self.w_map, self.S_N, theta)"
   ]
  },
  {
   "cell_type": "code",
   "execution_count": 9,
   "metadata": {
    "collapsed": true
   },
   "outputs": [],
   "source": [
    "def multiclass_sigmoid_logistic(Theta, Y):\n",
    "    n_class = Y.shape[1]\n",
    "    models = []\n",
    "    for i in range(n_class):\n",
    "        models.append(logistic_sigmoid_model())\n",
    "        models[i].training(Theta, Y[:, i])\n",
    "    return models"
   ]
  },
  {
   "cell_type": "code",
   "execution_count": null,
   "metadata": {
    "collapsed": true
   },
   "outputs": [],
   "source": []
  }
 ],
 "metadata": {
  "kernelspec": {
   "display_name": "Python 3",
   "language": "python",
   "name": "python3"
  },
  "language_info": {
   "codemirror_mode": {
    "name": "ipython",
    "version": 3
   },
   "file_extension": ".py",
   "mimetype": "text/x-python",
   "name": "python",
   "nbconvert_exporter": "python",
   "pygments_lexer": "ipython3",
   "version": "3.5.4"
  }
 },
 "nbformat": 4,
 "nbformat_minor": 2
}
